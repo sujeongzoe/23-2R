{
  "nbformat": 4,
  "nbformat_minor": 0,
  "metadata": {
    "colab": {
      "provenance": [],
      "authorship_tag": "ABX9TyOWE4ybwd2XOUGsyGJgz1qg",
      "include_colab_link": true
    },
    "kernelspec": {
      "name": "python3",
      "display_name": "Python 3"
    },
    "language_info": {
      "name": "python"
    }
  },
  "cells": [
    {
      "cell_type": "markdown",
      "metadata": {
        "id": "view-in-github",
        "colab_type": "text"
      },
      "source": [
        "<a href=\"https://colab.research.google.com/github/sujeongzoe/23-2R/blob/main/%5BMarchine_Learning%5Dclass.ipynb\" target=\"_parent\"><img src=\"https://colab.research.google.com/assets/colab-badge.svg\" alt=\"Open In Colab\"/></a>"
      ]
    },
    {
      "cell_type": "markdown",
      "source": [
        "# Class\n",
        "\n",
        "* 객체(object)\n",
        "* 클래스(Class) : 객체를 만드는 구조/틀\n",
        "* 인스턴스(Instance) : 클래스가 실질적으로 객체를 만들었을 때 그 객체를 부르는 용어"
      ],
      "metadata": {
        "id": "HoDfYv94463-"
      }
    },
    {
      "cell_type": "code",
      "source": [
        "class MyClass():\n",
        "  class_var = '클래스 변수'\n",
        "\n",
        "  @classmethod\n",
        "  def class_method(cls):\n",
        "    print('클래스의 메소드')\n",
        "\n",
        "  def instance_method(self):\n",
        "    self.instance_var = '인스턴스 변수'\n",
        "    print('인스턴스의 메소드')"
      ],
      "metadata": {
        "id": "fdnRXCyM5EYT"
      },
      "execution_count": 1,
      "outputs": []
    },
    {
      "cell_type": "markdown",
      "source": [
        "## Instance Method : 인스턴스 메소드의 매개변수 중 가장 첫 번째는 인스턴의 자리\n",
        "\n",
        "\n",
        "1.   ```__init__```(초기화자) : 인스턴스가 생성될 때, 객체의 초기값을 설정하는 메소드로, 자동으로 호출됨.\n",
        "2.   ```__del__```(소멸자) : 인스턴스가 소멸될 때, 자동으로 호출되는 메소드\n",
        "\n",
        "\n",
        "## placeholder"
      ],
      "metadata": {
        "id": "yddZvRct5nu5"
      }
    },
    {
      "cell_type": "code",
      "source": [
        "class Account():\n",
        "  def make_account(self):   # self : 인스턴스를 위한 placeholder\n",
        "    self.balance = 0\n",
        "\n",
        "  def deposit(self, money):\n",
        "    self.balance += money\n",
        "\n",
        "  def draw(self, money):\n",
        "    self.balance -= money\n",
        "\n",
        "a1 = Account()   # a1 : 인스턴스\n",
        "# 해당 방식으로 클래스 선언 시에, 만들었던 변수들과 메소드들을 사용할 수 있다.\n",
        "\n",
        "a1.make_account()  # __init__이 없으니까 placeholder를 만들어주렴녀 해당 명령어를 적어줘야 함.\n",
        "a1.deposit(1000)\n",
        "print(a1.balance)"
      ],
      "metadata": {
        "colab": {
          "base_uri": "https://localhost:8080/"
        },
        "id": "i0xh_RGs5fsd",
        "outputId": "f469f70e-4197-4638-ba03-6ebc77e30068"
      },
      "execution_count": 3,
      "outputs": [
        {
          "output_type": "stream",
          "name": "stdout",
          "text": [
            "1000\n"
          ]
        }
      ]
    },
    {
      "cell_type": "code",
      "source": [
        "# Account.balance"
      ],
      "metadata": {
        "colab": {
          "base_uri": "https://localhost:8080/",
          "height": 182
        },
        "id": "sSFxzJM066ZN",
        "outputId": "3b669a2d-f1cc-4f45-ab3a-6f1b8b79134f"
      },
      "execution_count": 4,
      "outputs": [
        {
          "output_type": "error",
          "ename": "AttributeError",
          "evalue": "ignored",
          "traceback": [
            "\u001b[0;31m---------------------------------------------------------------------------\u001b[0m",
            "\u001b[0;31mAttributeError\u001b[0m                            Traceback (most recent call last)",
            "\u001b[0;32m<ipython-input-4-35da668b8893>\u001b[0m in \u001b[0;36m<cell line: 1>\u001b[0;34m()\u001b[0m\n\u001b[0;32m----> 1\u001b[0;31m \u001b[0mAccount\u001b[0m\u001b[0;34m.\u001b[0m\u001b[0mbalance\u001b[0m\u001b[0;34m\u001b[0m\u001b[0;34m\u001b[0m\u001b[0m\n\u001b[0m",
            "\u001b[0;31mAttributeError\u001b[0m: type object 'Account' has no attribute 'balance'"
          ]
        }
      ]
    },
    {
      "cell_type": "code",
      "source": [
        "a2 = Account()\n",
        "a2.make_account()\n",
        "a2.deposit(5000)\n",
        "print(a2.balance)"
      ],
      "metadata": {
        "colab": {
          "base_uri": "https://localhost:8080/"
        },
        "id": "a1s2vLwC6_uU",
        "outputId": "474306bb-b4d8-4728-f750-5e80a23a570a"
      },
      "execution_count": 5,
      "outputs": [
        {
          "output_type": "stream",
          "name": "stdout",
          "text": [
            "5000\n"
          ]
        }
      ]
    },
    {
      "cell_type": "code",
      "source": [
        "class person():\n",
        "  def __init__(self):  # 생성자 생성 시 자동 수행\n",
        "    self.age = 17\n",
        "\n",
        "p1 = person()\n",
        "p1.age"
      ],
      "metadata": {
        "colab": {
          "base_uri": "https://localhost:8080/"
        },
        "id": "a_9Abbty7Ew_",
        "outputId": "441e179c-89a1-4a02-c465-154e2b7c8b5e"
      },
      "execution_count": 10,
      "outputs": [
        {
          "output_type": "execute_result",
          "data": {
            "text/plain": [
              "17"
            ]
          },
          "metadata": {},
          "execution_count": 10
        }
      ]
    },
    {
      "cell_type": "code",
      "source": [
        "class TestClass1():\n",
        "  def __init__(self, in1, in2):\n",
        "    self.v1 = in1\n",
        "    self.v2 = in2\n",
        "\n",
        "t_cls1 = TestClass1(10,20)  # 초기화자를 통해서 개겣의 초기값을 자동으로 설정.\n",
        "t_cls1.v1"
      ],
      "metadata": {
        "colab": {
          "base_uri": "https://localhost:8080/"
        },
        "id": "aFU_XFnU7Oj3",
        "outputId": "7d578902-817a-47fa-a6ba-ee27d2c8f1a1"
      },
      "execution_count": 11,
      "outputs": [
        {
          "output_type": "execute_result",
          "data": {
            "text/plain": [
              "10"
            ]
          },
          "metadata": {},
          "execution_count": 11
        }
      ]
    },
    {
      "cell_type": "code",
      "source": [
        "class ClassExample:\n",
        "  def __init__(self, name, age):\n",
        "    self.name = name\n",
        "    self.age = age + 5  # 변수 생성 후 파라미터로 보낸 값 할당.\n",
        "    print('[생성자] self와 변수 비교 ' + str(self.age) + ' age: ' + str(age))\n",
        "    print('[생성자] 이름:' + self.name + '나이:' + str(self.age))\n",
        "\n",
        "  def ten_year_calll(self, val):\n",
        "    return self.age + 10\n",
        "\n",
        "\n",
        "a = ClassExample('철수',20)   # 객체화 (ClassExample의 정보를 a에 담음)"
      ],
      "metadata": {
        "colab": {
          "base_uri": "https://localhost:8080/"
        },
        "id": "_07v4DPy7clO",
        "outputId": "735cb144-e4c1-4d23-91f0-dd0baca2d3f2"
      },
      "execution_count": 13,
      "outputs": [
        {
          "output_type": "stream",
          "name": "stdout",
          "text": [
            "[생성자] self와 변수 비교 25 age: 20\n",
            "[생성자] 이름:철수나이:25\n"
          ]
        }
      ]
    },
    {
      "cell_type": "markdown",
      "source": [
        "## 객체 슬라이싱\n",
        "* ```__getitem__```"
      ],
      "metadata": {
        "id": "wz9jghv18W3M"
      }
    },
    {
      "cell_type": "code",
      "source": [
        "class CustomNumbers:\n",
        "  def __init__(self):\n",
        "    self._numbers = [n for n in range(1,11)]\n",
        "\n",
        "a = CustomNumbers()"
      ],
      "metadata": {
        "id": "AaBscVfd8Ggi"
      },
      "execution_count": 14,
      "outputs": []
    },
    {
      "cell_type": "code",
      "source": [
        "# a[2:5]"
      ],
      "metadata": {
        "colab": {
          "base_uri": "https://localhost:8080/",
          "height": 182
        },
        "id": "JSVBKca28kch",
        "outputId": "b4549c47-f982-4f12-c7fd-0654fcf209ba"
      },
      "execution_count": 15,
      "outputs": [
        {
          "output_type": "error",
          "ename": "TypeError",
          "evalue": "ignored",
          "traceback": [
            "\u001b[0;31m---------------------------------------------------------------------------\u001b[0m",
            "\u001b[0;31mTypeError\u001b[0m                                 Traceback (most recent call last)",
            "\u001b[0;32m<ipython-input-15-cd92fdba5c05>\u001b[0m in \u001b[0;36m<cell line: 1>\u001b[0;34m()\u001b[0m\n\u001b[0;32m----> 1\u001b[0;31m \u001b[0ma\u001b[0m\u001b[0;34m[\u001b[0m\u001b[0;36m2\u001b[0m\u001b[0;34m:\u001b[0m\u001b[0;36m5\u001b[0m\u001b[0;34m]\u001b[0m\u001b[0;34m\u001b[0m\u001b[0;34m\u001b[0m\u001b[0m\n\u001b[0m",
            "\u001b[0;31mTypeError\u001b[0m: 'CustomNumbers' object is not subscriptable"
          ]
        }
      ]
    },
    {
      "cell_type": "code",
      "source": [
        "a._numbers[2:5]"
      ],
      "metadata": {
        "colab": {
          "base_uri": "https://localhost:8080/"
        },
        "id": "hMbEncQx8lZD",
        "outputId": "e2b2dbb1-34a3-44a6-ae03-ffb3c08453e1"
      },
      "execution_count": 16,
      "outputs": [
        {
          "output_type": "execute_result",
          "data": {
            "text/plain": [
              "[3, 4, 5]"
            ]
          },
          "metadata": {},
          "execution_count": 16
        }
      ]
    },
    {
      "cell_type": "code",
      "source": [
        "class CustomNumbers:\n",
        "  def __init__(self):\n",
        "    self._numbers = [n for n in range(1, 11)]\n",
        "\n",
        "  def __getitem__(self,idx):\n",
        "    return self._numbers[idx]"
      ],
      "metadata": {
        "id": "QNyL2u5r8oxM"
      },
      "execution_count": 17,
      "outputs": []
    },
    {
      "cell_type": "code",
      "source": [
        "a = CustomNumbers()\n",
        "a[2:7]"
      ],
      "metadata": {
        "colab": {
          "base_uri": "https://localhost:8080/"
        },
        "id": "elL5fchn80L9",
        "outputId": "959a13ec-1bfe-43cb-940d-970e297a5254"
      },
      "execution_count": 18,
      "outputs": [
        {
          "output_type": "execute_result",
          "data": {
            "text/plain": [
              "[3, 4, 5, 6, 7]"
            ]
          },
          "metadata": {},
          "execution_count": 18
        }
      ]
    },
    {
      "cell_type": "markdown",
      "source": [
        "* class variable (클래스 변수) : 클래스와 인스턴스 전체가 공유하는 변수\n",
        "* **class method(클래스 메소드, @classmethod)** : 클래스와 인스턴스 전체가 공유하는 함수 -> 인스턴스와 상관없이 사용(인스턴스가 없어도 사용 가능) 클래스와 인스턴스 전체에 공유됨.\n",
        "\n",
        "데코레이터(decorator) : wrapping을 통해 특정 코드를 재사용할 수 있게 해주는 역할"
      ],
      "metadata": {
        "id": "NTcglesH848t"
      }
    },
    {
      "cell_type": "code",
      "source": [
        "class MyClass2():\n",
        "  class_var = '클래스 변수'\n",
        "\n",
        "  @classmethod   # 데코레이터(decorator)\n",
        "  def class_method(cls):   # cls : 클래스를 위한 placeholder(self와 유사한 역할)\n",
        "    print('클래스의 메소드')\n",
        "\n",
        "e = MyClass2()\n",
        "print(e.class_var)\n",
        "print(MyClass2.class_var)\n",
        "e.class_method()\n",
        "MyClass2.class_method()"
      ],
      "metadata": {
        "colab": {
          "base_uri": "https://localhost:8080/"
        },
        "id": "ZGJjmnkS9Q-E",
        "outputId": "65da7cd1-28a6-499a-856c-c9b29cd715ac"
      },
      "execution_count": 19,
      "outputs": [
        {
          "output_type": "stream",
          "name": "stdout",
          "text": [
            "클래스 변수\n",
            "클래스 변수\n",
            "클래스의 메소드\n",
            "클래스의 메소드\n"
          ]
        }
      ]
    },
    {
      "cell_type": "code",
      "source": [
        "class Account2():\n",
        "  bank = '모두은행'\n",
        "  total = 0\n",
        "\n",
        "  @classmethod  # 위에서 아래로 값을 받아왔었는데 아래의 값을 위로 받아올 수 있다.\n",
        "  def merge(cls, acc1, acc2):\n",
        "    cls.total = acc1.balance + acc2.balance\n",
        "    print('당신의 재산은 %d' %cls.total)\n",
        "\n",
        "  def __init__(self):\n",
        "    self.balance = 0\n",
        "\n",
        "  def deposit(self, money):\n",
        "    self.balance += money\n",
        "\n",
        "  def draw(self, money):\n",
        "    self.balance -= money"
      ],
      "metadata": {
        "id": "gp22Dey3ApHf"
      },
      "execution_count": 20,
      "outputs": []
    },
    {
      "cell_type": "code",
      "source": [
        "Account2.bank"
      ],
      "metadata": {
        "colab": {
          "base_uri": "https://localhost:8080/",
          "height": 35
        },
        "id": "qiBiS47eBhmh",
        "outputId": "663e80f2-ded8-40c3-ea9a-401529a01db9"
      },
      "execution_count": 21,
      "outputs": [
        {
          "output_type": "execute_result",
          "data": {
            "text/plain": [
              "'모두은행'"
            ],
            "application/vnd.google.colaboratory.intrinsic+json": {
              "type": "string"
            }
          },
          "metadata": {},
          "execution_count": 21
        }
      ]
    },
    {
      "cell_type": "code",
      "source": [
        "b1 = Account2()\n",
        "b1.deposit(4000)\n",
        "print(b1.balance)\n",
        "print(b1.bank)"
      ],
      "metadata": {
        "colab": {
          "base_uri": "https://localhost:8080/"
        },
        "id": "1Fxc2GlHBiqu",
        "outputId": "2f5e8be3-8a8a-43c1-9c27-f566568dc203"
      },
      "execution_count": 22,
      "outputs": [
        {
          "output_type": "stream",
          "name": "stdout",
          "text": [
            "4000\n",
            "모두은행\n"
          ]
        }
      ]
    },
    {
      "cell_type": "code",
      "source": [
        "b2 = Account2()\n",
        "b2.deposit(7000)\n",
        "print(b2.balance)\n",
        "print(b2.bank)"
      ],
      "metadata": {
        "colab": {
          "base_uri": "https://localhost:8080/"
        },
        "id": "goaSTCU9Bobs",
        "outputId": "a7759f1e-d511-4cc7-db0e-514e409e3f48"
      },
      "execution_count": 23,
      "outputs": [
        {
          "output_type": "stream",
          "name": "stdout",
          "text": [
            "7000\n",
            "모두은행\n"
          ]
        }
      ]
    },
    {
      "cell_type": "code",
      "source": [
        "Account2.merge(b1, b2)"
      ],
      "metadata": {
        "colab": {
          "base_uri": "https://localhost:8080/"
        },
        "id": "D_rpI-CmBtMX",
        "outputId": "332ec2d9-38d3-4c76-95d2-efcef85f5356"
      },
      "execution_count": 24,
      "outputs": [
        {
          "output_type": "stream",
          "name": "stdout",
          "text": [
            "당신의 재산은 11000\n"
          ]
        }
      ]
    },
    {
      "cell_type": "code",
      "source": [
        "Account2.total"
      ],
      "metadata": {
        "colab": {
          "base_uri": "https://localhost:8080/"
        },
        "id": "31-zkUulBwkR",
        "outputId": "963e40b4-6ce4-4dc4-c136-a3121621d2c8"
      },
      "execution_count": 25,
      "outputs": [
        {
          "output_type": "execute_result",
          "data": {
            "text/plain": [
              "11000"
            ]
          },
          "metadata": {},
          "execution_count": 25
        }
      ]
    },
    {
      "cell_type": "code",
      "source": [
        "class GuestHouse():\n",
        "  guest = []\n",
        "\n",
        "  def __init__(self):\n",
        "    self.room = []\n",
        "\n",
        "  @classmethod\n",
        "  def check_in(cls, name):\n",
        "    cls.guest.append(name)\n",
        "\n",
        "  def add_person(self, name):\n",
        "    self.check_in(name)\n",
        "    self.room.append(name)"
      ],
      "metadata": {
        "id": "XwREzTeaBxeu"
      },
      "execution_count": 26,
      "outputs": []
    },
    {
      "cell_type": "code",
      "source": [
        "r3 = GuestHouse()\n",
        "r4 = GuestHouse()"
      ],
      "metadata": {
        "id": "TB_qOMXuCcGO"
      },
      "execution_count": 27,
      "outputs": []
    },
    {
      "cell_type": "code",
      "source": [
        "r3.check_in('뚝딱이')\n",
        "r4.check_in('뿡뿡이')"
      ],
      "metadata": {
        "id": "OW7gRzxjCfmv"
      },
      "execution_count": 28,
      "outputs": []
    },
    {
      "cell_type": "code",
      "source": [
        "GuestHouse.guest"
      ],
      "metadata": {
        "colab": {
          "base_uri": "https://localhost:8080/"
        },
        "id": "W12OhU22CjYz",
        "outputId": "739b2982-b140-4a8b-eff5-ff7d567ca3ca"
      },
      "execution_count": 29,
      "outputs": [
        {
          "output_type": "execute_result",
          "data": {
            "text/plain": [
              "['뚝딱이', '뿡뿡이']"
            ]
          },
          "metadata": {},
          "execution_count": 29
        }
      ]
    },
    {
      "cell_type": "code",
      "source": [
        "r3.room"
      ],
      "metadata": {
        "colab": {
          "base_uri": "https://localhost:8080/"
        },
        "id": "BpzcWhCnCliM",
        "outputId": "d1e34822-b1d9-4e82-b24e-d8d9c65c6063"
      },
      "execution_count": 30,
      "outputs": [
        {
          "output_type": "execute_result",
          "data": {
            "text/plain": [
              "[]"
            ]
          },
          "metadata": {},
          "execution_count": 30
        }
      ]
    },
    {
      "cell_type": "code",
      "source": [
        "r4.room"
      ],
      "metadata": {
        "colab": {
          "base_uri": "https://localhost:8080/"
        },
        "id": "2faZIdQgCwAh",
        "outputId": "17cee01d-5f0a-4847-e193-d2ad2285898d"
      },
      "execution_count": 31,
      "outputs": [
        {
          "output_type": "execute_result",
          "data": {
            "text/plain": [
              "[]"
            ]
          },
          "metadata": {},
          "execution_count": 31
        }
      ]
    },
    {
      "cell_type": "code",
      "source": [
        "r3.add_person('홍길동')"
      ],
      "metadata": {
        "id": "HNFCAVwJCw9c"
      },
      "execution_count": 32,
      "outputs": []
    },
    {
      "cell_type": "code",
      "source": [
        "r4.add_person('텔레토비')"
      ],
      "metadata": {
        "id": "9RDcGK-gCyhA"
      },
      "execution_count": 33,
      "outputs": []
    },
    {
      "cell_type": "code",
      "source": [
        "r3.room"
      ],
      "metadata": {
        "colab": {
          "base_uri": "https://localhost:8080/"
        },
        "id": "hVjX0dVTC1E5",
        "outputId": "d469da99-eff0-46b7-9be7-d6e613ef61df"
      },
      "execution_count": 34,
      "outputs": [
        {
          "output_type": "execute_result",
          "data": {
            "text/plain": [
              "['홍길동']"
            ]
          },
          "metadata": {},
          "execution_count": 34
        }
      ]
    },
    {
      "cell_type": "code",
      "source": [
        "r4.room"
      ],
      "metadata": {
        "colab": {
          "base_uri": "https://localhost:8080/"
        },
        "id": "TmCJD8SuC4Df",
        "outputId": "437732c8-ccb9-4aa5-804f-41e27f027278"
      },
      "execution_count": 35,
      "outputs": [
        {
          "output_type": "execute_result",
          "data": {
            "text/plain": [
              "['텔레토비']"
            ]
          },
          "metadata": {},
          "execution_count": 35
        }
      ]
    },
    {
      "cell_type": "code",
      "source": [
        "GuestHouse.guest"
      ],
      "metadata": {
        "colab": {
          "base_uri": "https://localhost:8080/"
        },
        "id": "ylX7rEP5C4zh",
        "outputId": "c7d95dd2-13d4-448f-8f7b-0f75dcd8a928"
      },
      "execution_count": 36,
      "outputs": [
        {
          "output_type": "execute_result",
          "data": {
            "text/plain": [
              "['뚝딱이', '뿡뿡이', '홍길동', '텔레토비']"
            ]
          },
          "metadata": {},
          "execution_count": 36
        }
      ]
    },
    {
      "cell_type": "code",
      "source": [],
      "metadata": {
        "id": "zyynlifxC6HQ"
      },
      "execution_count": null,
      "outputs": []
    },
    {
      "cell_type": "markdown",
      "source": [
        "## 클래스 상속"
      ],
      "metadata": {
        "id": "nC3dLV0ZC-3l"
      }
    },
    {
      "cell_type": "code",
      "source": [
        "class MyPhone():   # 부모\n",
        "  def __init__(self, model, color):\n",
        "    self.model = model\n",
        "    self.color = color\n",
        "\n",
        "  def set_name(self, name):\n",
        "    self.user = name\n",
        "    print('사용자의 이름은 : %s' % self.user)\n",
        "\n",
        "  def set_number(self, number):\n",
        "    self.number = number"
      ],
      "metadata": {
        "id": "o0ErjdFADAYO"
      },
      "execution_count": 37,
      "outputs": []
    },
    {
      "cell_type": "code",
      "source": [
        "class MyPhone2(MyPhone):\n",
        "  def has_case(self, val = False):\n",
        "    self.case = val"
      ],
      "metadata": {
        "id": "cUA_y8YiDW23"
      },
      "execution_count": 38,
      "outputs": []
    },
    {
      "cell_type": "code",
      "source": [
        "p2 = MyPhone2('iphone','red')\n",
        "p2.set_name('MJ')\n",
        "p2.has_case(True)\n",
        "p2.case"
      ],
      "metadata": {
        "colab": {
          "base_uri": "https://localhost:8080/"
        },
        "id": "n_gJ9VXTDa8L",
        "outputId": "0ea8e560-73f8-4f54-dd65-bb01263775bf"
      },
      "execution_count": 39,
      "outputs": [
        {
          "output_type": "stream",
          "name": "stdout",
          "text": [
            "사용자의 이름은 : MJ\n"
          ]
        },
        {
          "output_type": "execute_result",
          "data": {
            "text/plain": [
              "True"
            ]
          },
          "metadata": {},
          "execution_count": 39
        }
      ]
    },
    {
      "cell_type": "code",
      "source": [
        "# 메소드 오버라이딩\n",
        "class MyPhone():\n",
        "  def __init__(self, model, color):\n",
        "    self.model = model\n",
        "    self.color = color\n",
        "  def set_name(self, name):\n",
        "    self.user = name\n",
        "    print('사용자의 이름은 : %s' %self.user)\n",
        "  def set_number(self, number):\n",
        "    self.number = number"
      ],
      "metadata": {
        "id": "YVVs0kiVDh00"
      },
      "execution_count": 40,
      "outputs": []
    },
    {
      "cell_type": "code",
      "source": [
        "p1 = MyPhone('iphone','red')\n",
        "p1.set_number('010-xxxx-xxxx')   # MyPhone에는 출력문이 없음"
      ],
      "metadata": {
        "id": "zqeKbh_-EAcC"
      },
      "execution_count": 41,
      "outputs": []
    },
    {
      "cell_type": "code",
      "source": [
        "class MyPhone3(MyPhone):\n",
        "  def set_number(self, num):\n",
        "    self.number = num\n",
        "    print('이 핸드폰의 번호는 : %s' %self.number)"
      ],
      "metadata": {
        "id": "RXmM9OdGEJjS"
      },
      "execution_count": 42,
      "outputs": []
    },
    {
      "cell_type": "code",
      "source": [
        "p3 = MyPhone3('iphone','red')\n",
        "p3.set_number('010-xxxx-xxxx')"
      ],
      "metadata": {
        "colab": {
          "base_uri": "https://localhost:8080/"
        },
        "id": "f0vzFVpcEPXU",
        "outputId": "974214e6-5990-4ab9-fb3d-f3360af87132"
      },
      "execution_count": 43,
      "outputs": [
        {
          "output_type": "stream",
          "name": "stdout",
          "text": [
            "이 핸드폰의 번호는 : 010-xxxx-xxxx\n"
          ]
        }
      ]
    },
    {
      "cell_type": "code",
      "source": [],
      "metadata": {
        "id": "a6YCUoIAEVf3"
      },
      "execution_count": null,
      "outputs": []
    },
    {
      "cell_type": "markdown",
      "source": [
        "### ex\n",
        "1. Human 이라는 클래스를 만들어보자\n",
        "* Human 클래스는 아래와 같은 특징이 있다.\n",
        "* Human 클래스는 인스턴스 생성 시 birth_date, sex, nation을 변수로 가지고 있다.\n",
        "* give_name은 인스턴스 메소드로 이름을 input으로 받아서 name이라는 인스턴스 변수로 저장하고 화면에 이름을 출력하는 역할을 하는 함수이다.\n",
        "* can_sing이라는 함수는 True/False 값을 input으로 받으며, 참이면 'Sing a song'을 화면에 출력하는 함수이다."
      ],
      "metadata": {
        "id": "Pkqf0qxrFMsH"
      }
    },
    {
      "cell_type": "code",
      "source": [
        "class Human():\n",
        "  def __init__(self, birth_date, sex, nation):\n",
        "    self.birth_date = birth_date\n",
        "    self.sex = sex\n",
        "    self.nation = nation\n",
        "\n",
        "  def give_name(self, name):\n",
        "    self.name = name\n",
        "    print('이름은 %s입니다.' %self.name)\n",
        "\n",
        "  def can_sing(self, bool):\n",
        "    if bool:\n",
        "      print('Sing a song')"
      ],
      "metadata": {
        "id": "da_Z97ip82Gm"
      },
      "execution_count": 45,
      "outputs": []
    },
    {
      "cell_type": "code",
      "source": [
        "MJ = Human(200802, 'F', 'Korea')\n",
        "MJ.give_name('민지')\n",
        "MJ.can_sing(True)"
      ],
      "metadata": {
        "colab": {
          "base_uri": "https://localhost:8080/"
        },
        "id": "8NLZtcYWFJtz",
        "outputId": "1b49e164-97a1-4eac-995b-d081d9c6c328"
      },
      "execution_count": 46,
      "outputs": [
        {
          "output_type": "stream",
          "name": "stdout",
          "text": [
            "이름은 민지입니다.\n",
            "Sing a song\n"
          ]
        }
      ]
    },
    {
      "cell_type": "markdown",
      "source": [
        "### ex\n",
        "2. Human 이라는 클래스를 상속하는 Child라는 클래스를 만들어보자.\n",
        "* Child의 클래스에는 아래와 같은 변수와 함수들이 추가된다.\n",
        "* 눈동자 색깔을 나타내는 변수 eye를 인스턴스 선언시 사용할 수 있게 추가해보자.\n",
        "* Chile의 클래스는 노래하는 능력이 없다. 따라서 can_sing이라는 메소드가 호출되면 무조건 'Can't Sing'이고 출력하도록 바꿔보자.\n",
        "* Child는 노래 대신 춤을 출 수 있다. can_dance라는 메소드가 호출되면 'Dance Time!'을 출력하도록 메소드를 작성해보자."
      ],
      "metadata": {
        "id": "giRwG6AVF70e"
      }
    },
    {
      "cell_type": "code",
      "source": [
        "class Child(Human):\n",
        "  def __init__(self, birth_date, sex, nation, eye):\n",
        "    self.birth_date = birth_date\n",
        "    self.sex = sex\n",
        "    self.nation = nation\n",
        "    self.eye = eye\n",
        "\n",
        "  def can_sing(self):\n",
        "    print(\"Can't Sing\")\n",
        "\n",
        "  def can_dance(self):\n",
        "    print('Dance Time!')"
      ],
      "metadata": {
        "id": "UACACmzKF4Ep"
      },
      "execution_count": 48,
      "outputs": []
    },
    {
      "cell_type": "code",
      "source": [
        "ch = Child(200802, 'F', '한국', 'black')\n",
        "ch.nation"
      ],
      "metadata": {
        "colab": {
          "base_uri": "https://localhost:8080/",
          "height": 35
        },
        "id": "CAjswLigG6eC",
        "outputId": "408f678e-a825-4350-9ce4-3d4e0002d956"
      },
      "execution_count": 49,
      "outputs": [
        {
          "output_type": "execute_result",
          "data": {
            "text/plain": [
              "'한국'"
            ],
            "application/vnd.google.colaboratory.intrinsic+json": {
              "type": "string"
            }
          },
          "metadata": {},
          "execution_count": 49
        }
      ]
    },
    {
      "cell_type": "markdown",
      "source": [
        "* ```super().__init__()```"
      ],
      "metadata": {
        "id": "ue6qbhBIHGaH"
      }
    },
    {
      "cell_type": "code",
      "source": [
        "# 다른 풀이\n",
        "\n",
        "class ChildSuper(Human):\n",
        "  def __init__(self, birth_date, sex, nation, eye):\n",
        "    super().__init__(birth_date, sex, nation)   # Humna에서 자동으로 내려옴.\n",
        "    self.eye = eye\n",
        "  def can_sing(self):\n",
        "    print(\"Can't Sing\")\n",
        "  def can_dance(self):\n",
        "    print('Dance Time!')"
      ],
      "metadata": {
        "id": "iS6LEqNlHEUN"
      },
      "execution_count": 50,
      "outputs": []
    },
    {
      "cell_type": "code",
      "source": [
        "ch2 = ChildSuper(200807, 'M', '미국', 'blue')\n",
        "ch2.nation"
      ],
      "metadata": {
        "colab": {
          "base_uri": "https://localhost:8080/",
          "height": 35
        },
        "id": "mluCcfoQHhpP",
        "outputId": "e67ff8ff-8f60-4bcc-fde2-17eda5fb2bd2"
      },
      "execution_count": 51,
      "outputs": [
        {
          "output_type": "execute_result",
          "data": {
            "text/plain": [
              "'미국'"
            ],
            "application/vnd.google.colaboratory.intrinsic+json": {
              "type": "string"
            }
          },
          "metadata": {},
          "execution_count": 51
        }
      ]
    },
    {
      "cell_type": "code",
      "source": [],
      "metadata": {
        "id": "qizFF8pNHm4e"
      },
      "execution_count": null,
      "outputs": []
    }
  ]
}